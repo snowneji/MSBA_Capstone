{
 "cells": [
  {
   "cell_type": "markdown",
   "metadata": {},
   "source": [
    "### Job description training build"
   ]
  },
  {
   "cell_type": "code",
   "execution_count": 67,
   "metadata": {
    "collapsed": false
   },
   "outputs": [],
   "source": [
    "import pandas as pd\n",
    "import numpy as np\n",
    "import nltk\n",
    "from nltk.tokenize import sent_tokenize, word_tokenize\n",
    "from nltk.corpus import stopwords\n",
    "import matplotlib.pyplot as plt\n",
    "from wordcloud import WordCloud, STOPWORDS\n",
    "import re, string, timeit\n",
    "import pickle\n",
    "%matplotlib inline\n",
    "\n",
    "pd.set_option('max_colwidth', 800)"
   ]
  },
  {
   "cell_type": "code",
   "execution_count": 68,
   "metadata": {
    "collapsed": false
   },
   "outputs": [],
   "source": [
    "directory = '/Users/chidam/data_sci/data/capstone/'\n",
    "file_name_ds = 'data scientist.csv'\n",
    "file_name_da = 'data analyst.csv'\n",
    "file_name_ba = 'business analyst.csv'\n",
    "#inp_file = directory + file_name\n",
    "ds_df = pd.read_csv(directory + file_name_ds)\n",
    "da_df = pd.read_csv(directory + file_name_da)\n",
    "ba_df = pd.read_csv(directory + file_name_ba)\n",
    "#filtered_df = in_file[in_file['course_rating']>0]  # dropped 35,790 courses with 0 rating. picked only 17.5% courses"
   ]
  },
  {
   "cell_type": "code",
   "execution_count": 69,
   "metadata": {
    "collapsed": false
   },
   "outputs": [
    {
     "name": "stdout",
     "output_type": "stream",
     "text": [
      "<class 'pandas.core.frame.DataFrame'>\n",
      "Int64Index: 921 entries, 0 to 999\n",
      "Data columns (total 5 columns):\n",
      "title       921 non-null object\n",
      "company     921 non-null object\n",
      "review      551 non-null object\n",
      "location    921 non-null object\n",
      "desc        921 non-null object\n",
      "dtypes: object(5)\n",
      "memory usage: 43.2+ KB\n",
      "<class 'pandas.core.frame.DataFrame'>\n",
      "Int64Index: 999 entries, 0 to 999\n",
      "Data columns (total 5 columns):\n",
      "title       999 non-null object\n",
      "company     998 non-null object\n",
      "review      541 non-null object\n",
      "location    999 non-null object\n",
      "desc        999 non-null object\n",
      "dtypes: object(5)\n",
      "memory usage: 46.8+ KB\n",
      "<class 'pandas.core.frame.DataFrame'>\n",
      "Int64Index: 999 entries, 0 to 999\n",
      "Data columns (total 5 columns):\n",
      "title       999 non-null object\n",
      "company     999 non-null object\n",
      "review      570 non-null object\n",
      "location    999 non-null object\n",
      "desc        999 non-null object\n",
      "dtypes: object(5)\n",
      "memory usage: 46.8+ KB\n",
      "None None None\n",
      "                                     title                   company  \\\n",
      "0            IT Systems & Data Analyst 1/2                    BOEING   \n",
      "1                           Data Scientist      NLB Services Pvt Ltd   \n",
      "2    Data Scientist and Scientific modeler                    Panton   \n",
      "3       SENIOR DATA ANALYST/DATA SCIENTIST     Mainstreet Investment   \n",
      "4  Data Science Assurance Senior Associate  PRICE WATERHOUSE COOPERS   \n",
      "\n",
      "          review                    location  \\\n",
      "0  1,769 reviews  North Charleston, SC 29418   \n",
      "1            NaN                 Redmond, WA   \n",
      "2            NaN                 Houston, TX   \n",
      "3      2 reviews            Carmel, IN 46032   \n",
      "4  1,551 reviews                 Phoenix, AZ   \n",
      "\n",
      "                                                                                                                                                                 desc  \n",
      "0  Skilled scientists and thinkers. A technical degree is defined as any four year degree, or greater, in a mathematic, scientific or information technology field...  \n",
      "1  Be proficient in R language. Have previous experience of the analytical industry and Marketing Analytics. High level of comfort with Primary/Secondary Research...  \n",
      "2                  Provide subject matter expertise and hands-on delivery of image or video processing, predictive analysis, and advanced data analytics projects....  \n",
      "3               Technical expertise regarding data models, database design development, data mining and segmentation techniques. Experience in SQL, R, and Python....  \n",
      "4         Data Analytics Transformation focuses on services related to data auditing, business analytics, visualization and leveraging of analytic technologies to...  \n",
      "                            title                     company          review  \\\n",
      "0             Junior Data Analyst                        ALIS             NaN   \n",
      "1        Analyst, Client Insights                    comScore   3.622 reviews   \n",
      "2  HR Reporting/Analytics Analyst                  First Data  3.6955 reviews   \n",
      "3             Junior Data Analyst  Avery Dennison Corporation  3.9270 reviews   \n",
      "4                    Data Analyst                        EBay  4.1631 reviews   \n",
      "\n",
      "          location  \\\n",
      "0       Boston, MA   \n",
      "1     New York, NY   \n",
      "2     Melville, NY   \n",
      "3  Westborough, MA   \n",
      "4    Rye Brook, NY   \n",
      "\n",
      "                                                                                                                                                                  desc  \n",
      "0                                       Applies professional knowledge to gather facts, research and analyze the data, and develop conclusions and recommendations....  \n",
      "1    ANALYST, CLIENT INSIGHTS. This Analyst will help support comScore's relationships with clients at top publishers and media companies by managing deliveries of...  \n",
      "2          Proficient in data reporting tools. Strong aptitude for working with data. Comfortable manipulating data in MS Excel and conducting root cause analysis....  \n",
      "3                                   Meticulous attention to detail due to the sensitivity of data. High comfort level in manipulating and querying large data sets....  \n",
      "4  Responsibilities include using proprietary software to process industry data, quality control and general maintenance of automotive, motorcycle and power-sports...  \n",
      "                                                  title          company  \\\n",
      "0  Business Analyst / Senior Business Analyst - Flights    Priceline.com   \n",
      "1                                      Business Analyst  Activesoft, Inc   \n",
      "2      Senior Business Analyst - Senior BA Project Lead        Capgemini   \n",
      "3                            Technical Business Analyst   MSR Global LLC   \n",
      "4                                      Business Analyst     Haritek Inc.   \n",
      "\n",
      "        review           location  \\\n",
      "0   30 reviews  Norwalk, CT 06854   \n",
      "1          NaN     Scottsdale, AZ   \n",
      "2  791 reviews        Atlanta, GA   \n",
      "3          NaN        Phoenix, AZ   \n",
      "4          NaN          Tempe, AZ   \n",
      "\n",
      "                                                                                                                                                            desc  \n",
      "0                     As a Business Analyst, you will use insight from priceline’s data to guide our product vision and achieve tactical business objectives....  \n",
      "1      The Business Analyst (BA) works closely with business and technical stakeholders to elicit and define requirements for key projects driven by business...  \n",
      "2  A Business Analyst performing “as-is/ to-be” analysis on business processes and/ or IT; Business Analysts structure, analyze and visualize an enterprise’s...  \n",
      "3  Develop Agile Product Backlog items for presentation to development teams and business owners including appropriate assumptions, acceptance criteria, user...  \n",
      "4                                   Where systems are deficient, the Business Analyst will notify management so that corrective remediation may be scheduled....  \n"
     ]
    }
   ],
   "source": [
    "## unix finding duplicate entries: cat 'business analyst.csv' 'data analyst.csv' 'data scientist.csv'|sort | uniq -d| wc -l\n",
    "\n",
    "#ds_df.head()\n",
    "ds_df = ds_df[ds_df.duplicated() == False]\n",
    "da_df = da_df[da_df.duplicated() == False]\n",
    "ba_df = ba_df[ba_df.duplicated() == False]\n",
    "\n",
    "print(ds_df.info(), da_df.info() , ba_df.info())\n",
    "print(ds_df.head())\n",
    "print(da_df.head())\n",
    "print(ba_df.head())\n"
   ]
  },
  {
   "cell_type": "code",
   "execution_count": 70,
   "metadata": {
    "collapsed": false
   },
   "outputs": [],
   "source": [
    "exclude = set(string.punctuation) - {'+','#'}"
   ]
  },
  {
   "cell_type": "code",
   "execution_count": 71,
   "metadata": {
    "collapsed": true
   },
   "outputs": [],
   "source": [
    "## Removing punctuations ##\n",
    "def remove_punct(str1):\n",
    "    return(''.join(ch for ch in str1 if ch not in exclude))\n",
    "\n",
    "## Stop words\n",
    "stop_words = set(stopwords.words(\"english\"))"
   ]
  },
  {
   "cell_type": "code",
   "execution_count": 72,
   "metadata": {
    "collapsed": false
   },
   "outputs": [
    {
     "name": "stdout",
     "output_type": "stream",
     "text": [
      "                                     title                   company review  \\\n",
      "0            it systems & data analyst 1/2                    boeing   1769   \n",
      "1                           data scientist      nlb services pvt ltd      0   \n",
      "2    data scientist and scientific modeler                    panton      0   \n",
      "3       senior data analyst/data scientist     mainstreet investment      2   \n",
      "4  data science assurance senior associate  price waterhouse coopers   1551   \n",
      "\n",
      "                     location  \\\n",
      "0  north charleston, sc 29418   \n",
      "1                 redmond, wa   \n",
      "2                 houston, tx   \n",
      "3            carmel, in 46032   \n",
      "4                 phoenix, az   \n",
      "\n",
      "                                                                                                                                                                 desc  \\\n",
      "0  skilled scientists and thinkers. a technical degree is defined as any four year degree, or greater, in a mathematic, scientific or information technology field...   \n",
      "1  be proficient in r language. have previous experience of the analytical industry and marketing analytics. high level of comfort with primary/secondary research...   \n",
      "2                  provide subject matter expertise and hands-on delivery of image or video processing, predictive analysis, and advanced data analytics projects....   \n",
      "3               technical expertise regarding data models, database design development, data mining and segmentation techniques. experience in sql, r, and python....   \n",
      "4         data analytics transformation focuses on services related to data auditing, business analytics, visualization and leveraging of analytic technologies to...   \n",
      "\n",
      "           target  \n",
      "0  data scientist  \n",
      "1  data scientist  \n",
      "2  data scientist  \n",
      "3  data scientist  \n",
      "4  data scientist  \n",
      "                            title                     company  review  \\\n",
      "0             junior data analyst                        alis       0   \n",
      "1        analyst, client insights                    comscore   3.622   \n",
      "2  hr reporting/analytics analyst                  first data  3.6955   \n",
      "3             junior data analyst  avery dennison corporation  3.9270   \n",
      "4                    data analyst                        ebay  4.1631   \n",
      "\n",
      "          location  \\\n",
      "0       boston, ma   \n",
      "1     new york, ny   \n",
      "2     melville, ny   \n",
      "3  westborough, ma   \n",
      "4    rye brook, ny   \n",
      "\n",
      "                                                                                                                                                                  desc  \\\n",
      "0                                       applies professional knowledge to gather facts, research and analyze the data, and develop conclusions and recommendations....   \n",
      "1    analyst, client insights. this analyst will help support comscore's relationships with clients at top publishers and media companies by managing deliveries of...   \n",
      "2          proficient in data reporting tools. strong aptitude for working with data. comfortable manipulating data in ms excel and conducting root cause analysis....   \n",
      "3                                   meticulous attention to detail due to the sensitivity of data. high comfort level in manipulating and querying large data sets....   \n",
      "4  responsibilities include using proprietary software to process industry data, quality control and general maintenance of automotive, motorcycle and power-sports...   \n",
      "\n",
      "         target  \n",
      "0  data analyst  \n",
      "1  data analyst  \n",
      "2  data analyst  \n",
      "3  data analyst  \n",
      "4  data analyst  \n",
      "                                                  title          company  \\\n",
      "0  business analyst / senior business analyst - flights    priceline.com   \n",
      "1                                      business analyst  activesoft, inc   \n",
      "2      senior business analyst - senior ba project lead        capgemini   \n",
      "3                            technical business analyst   msr global llc   \n",
      "4                                      business analyst     haritek inc.   \n",
      "\n",
      "  review           location  \\\n",
      "0     30  norwalk, ct 06854   \n",
      "1      0     scottsdale, az   \n",
      "2    791        atlanta, ga   \n",
      "3      0        phoenix, az   \n",
      "4      0          tempe, az   \n",
      "\n",
      "                                                                                                                                                            desc  \\\n",
      "0                     as a business analyst, you will use insight from priceline’s data to guide our product vision and achieve tactical business objectives....   \n",
      "1      the business analyst (ba) works closely with business and technical stakeholders to elicit and define requirements for key projects driven by business...   \n",
      "2  a business analyst performing “as-is/ to-be” analysis on business processes and/ or it; business analysts structure, analyze and visualize an enterprise’s...   \n",
      "3  develop agile product backlog items for presentation to development teams and business owners including appropriate assumptions, acceptance criteria, user...   \n",
      "4                                   where systems are deficient, the business analyst will notify management so that corrective remediation may be scheduled....   \n",
      "\n",
      "             target  \n",
      "0  business analyst  \n",
      "1  business analyst  \n",
      "2  business analyst  \n",
      "3  business analyst  \n",
      "4  business analyst  \n"
     ]
    }
   ],
   "source": [
    "## converting DF to lowercase\n",
    "for cols in ds_df.columns:\n",
    "    ds_df[cols] = ds_df[cols].str.lower()\n",
    "    da_df[cols] = da_df[cols].str.lower()\n",
    "    ba_df[cols] = ba_df[cols].str.lower()\n",
    "    \n",
    "\n",
    "ds_df.review = ds_df.review.str.replace(' reviews','').str.replace(',','')\n",
    "da_df.review = da_df.review.str.replace(' reviews','').str.replace(',','')\n",
    "ba_df.review = ba_df.review.str.replace(' reviews','').str.replace(',','')\n",
    "\n",
    "ds_df.review = ds_df.review.fillna(0)\n",
    "da_df.review = da_df.review.fillna(0)\n",
    "ba_df.review = ba_df.review.fillna(0)\n",
    "\n",
    "ds_df['target'] = 'data scientist'\n",
    "da_df['target'] = 'data analyst'\n",
    "ba_df['target'] = 'business analyst'\n",
    "\n",
    "\n",
    "print(ds_df.head())\n",
    "print(da_df.head())\n",
    "print(ba_df.head())"
   ]
  },
  {
   "cell_type": "code",
   "execution_count": 74,
   "metadata": {
    "collapsed": false
   },
   "outputs": [
    {
     "name": "stdout",
     "output_type": "stream",
     "text": [
      "<class 'pandas.core.frame.DataFrame'>\n",
      "Int64Index: 2919 entries, 0 to 999\n",
      "Data columns (total 6 columns):\n",
      "title       2919 non-null object\n",
      "company     2918 non-null object\n",
      "review      2919 non-null object\n",
      "location    2919 non-null object\n",
      "desc        2919 non-null object\n",
      "target      2919 non-null object\n",
      "dtypes: object(6)\n",
      "memory usage: 159.6+ KB\n",
      "None\n",
      "                                     title                   company review  \\\n",
      "0            it systems & data analyst 1/2                    boeing   1769   \n",
      "1                           data scientist      nlb services pvt ltd      0   \n",
      "2    data scientist and scientific modeler                    panton      0   \n",
      "3       senior data analyst/data scientist     mainstreet investment      2   \n",
      "4  data science assurance senior associate  price waterhouse coopers   1551   \n",
      "\n",
      "                     location  \\\n",
      "0  north charleston, sc 29418   \n",
      "1                 redmond, wa   \n",
      "2                 houston, tx   \n",
      "3            carmel, in 46032   \n",
      "4                 phoenix, az   \n",
      "\n",
      "                                                                                                                                                                 desc  \\\n",
      "0  skilled scientists and thinkers. a technical degree is defined as any four year degree, or greater, in a mathematic, scientific or information technology field...   \n",
      "1  be proficient in r language. have previous experience of the analytical industry and marketing analytics. high level of comfort with primary/secondary research...   \n",
      "2                  provide subject matter expertise and hands-on delivery of image or video processing, predictive analysis, and advanced data analytics projects....   \n",
      "3               technical expertise regarding data models, database design development, data mining and segmentation techniques. experience in sql, r, and python....   \n",
      "4         data analytics transformation focuses on services related to data auditing, business analytics, visualization and leveraging of analytic technologies to...   \n",
      "\n",
      "           target  \n",
      "0  data scientist  \n",
      "1  data scientist  \n",
      "2  data scientist  \n",
      "3  data scientist  \n",
      "4  data scientist  \n"
     ]
    }
   ],
   "source": [
    "train_df = pd.concat([ds_df, da_df, ba_df], axis = 0)\n",
    "print(train_df.info())\n",
    "print(train_df.head())"
   ]
  },
  {
   "cell_type": "code",
   "execution_count": 77,
   "metadata": {
    "collapsed": false
   },
   "outputs": [],
   "source": [
    "train_df.to_csv('train_df.csv',encoding='utf-8')"
   ]
  },
  {
   "cell_type": "code",
   "execution_count": null,
   "metadata": {
    "collapsed": true
   },
   "outputs": [],
   "source": []
  }
 ],
 "metadata": {
  "kernelspec": {
   "display_name": "Python 3",
   "language": "python",
   "name": "python3"
  },
  "language_info": {
   "codemirror_mode": {
    "name": "ipython",
    "version": 3
   },
   "file_extension": ".py",
   "mimetype": "text/x-python",
   "name": "python",
   "nbconvert_exporter": "python",
   "pygments_lexer": "ipython3",
   "version": "3.5.1"
  }
 },
 "nbformat": 4,
 "nbformat_minor": 0
}
